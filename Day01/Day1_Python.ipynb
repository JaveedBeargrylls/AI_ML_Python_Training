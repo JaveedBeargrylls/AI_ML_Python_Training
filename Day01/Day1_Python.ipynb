{
 "cells": [
  {
   "cell_type": "code",
   "execution_count": 26,
   "metadata": {
    "id": "x-TZCoq6jBpU"
   },
   "outputs": [],
   "source": [
    "age = 26\n",
    "name= 'javeed'\n",
    "name_1= \"Javeed\"\n",
    "name_2= \"\"\"D Javeed\"\"\"\n"
   ]
  },
  {
   "cell_type": "code",
   "execution_count": 27,
   "metadata": {
    "colab": {
     "base_uri": "https://localhost:8080/"
    },
    "id": "f0Me7rgij-Pd",
    "outputId": "18199be4-c691-42af-f483-df714983b924"
   },
   "outputs": [
    {
     "name": "stdout",
     "output_type": "stream",
     "text": [
      "26\n",
      "javeed\n",
      "Javeed\n",
      "D Javeed\n"
     ]
    }
   ],
   "source": [
    "print(age)\n",
    "print(name)\n",
    "print(name_1)\n",
    "print(name_2)\n"
   ]
  },
  {
   "cell_type": "code",
   "execution_count": 28,
   "metadata": {
    "colab": {
     "base_uri": "https://localhost:8080/"
    },
    "id": "vdkgs7mFkU4R",
    "outputId": "e7b4b4be-ef05-451a-baa5-a16c55f9c82f"
   },
   "outputs": [
    {
     "name": "stdout",
     "output_type": "stream",
     "text": [
      "<class 'int'>\n"
     ]
    }
   ],
   "source": [
    "print(type(age))"
   ]
  },
  {
   "cell_type": "code",
   "execution_count": 29,
   "metadata": {
    "colab": {
     "base_uri": "https://localhost:8080/"
    },
    "id": "fq688CBjkj54",
    "outputId": "941a7d02-215f-4aed-bab7-b33e88daa5cd"
   },
   "outputs": [
    {
     "name": "stdout",
     "output_type": "stream",
     "text": [
      "<class 'int'>\n",
      "<class 'str'>\n",
      "<class 'str'>\n",
      "<class 'str'>\n"
     ]
    }
   ],
   "source": [
    "print(type(age))\n",
    "print(type(name))\n",
    "print(type(name_1))\n",
    "print(type(name_2))\n"
   ]
  },
  {
   "cell_type": "code",
   "execution_count": 30,
   "metadata": {
    "id": "7O0EFhAZlL35"
   },
   "outputs": [],
   "source": [
    "add ='''VIP Road\n",
    "name\n",
    "class\n",
    "age\n",
    "'''"
   ]
  },
  {
   "cell_type": "code",
   "execution_count": 31,
   "metadata": {
    "colab": {
     "base_uri": "https://localhost:8080/"
    },
    "id": "0DLPKJ6skuNF",
    "outputId": "9a40f75b-0d6d-4df4-e238-0d65aa21d2e1"
   },
   "outputs": [
    {
     "name": "stdout",
     "output_type": "stream",
     "text": [
      "VIP Road\n",
      "name\n",
      "class\n",
      "age\n",
      "\n"
     ]
    }
   ],
   "source": [
    "print(add)"
   ]
  },
  {
   "cell_type": "code",
   "execution_count": 32,
   "metadata": {
    "colab": {
     "base_uri": "https://localhost:8080/"
    },
    "id": "fFAq_JL7llKQ",
    "outputId": "b6ad88a9-4bb8-44d4-9246-54422e26b1ff"
   },
   "outputs": [
    {
     "name": "stdout",
     "output_type": "stream",
     "text": [
      "30 9090 (9+9j) False\n"
     ]
    }
   ],
   "source": [
    "#Numeric int, decimal, complex\n",
    "#String\n",
    "\n",
    "#Boolean true or false\n",
    "#seq list, tuple dict set\n",
    "\n",
    "age= 30\n",
    "salary=9090\n",
    "comp=9+9j\n",
    "day=False\n",
    "print(age,salary,comp,day)"
   ]
  },
  {
   "cell_type": "code",
   "execution_count": 33,
   "metadata": {
    "colab": {
     "base_uri": "https://localhost:8080/"
    },
    "id": "BloOSEk3mG9S",
    "outputId": "9991e676-2ca0-40b4-e7f4-0dde774a703f"
   },
   "outputs": [
    {
     "name": "stdout",
     "output_type": "stream",
     "text": [
      "<class 'int'> <class 'int'> <class 'complex'> False\n"
     ]
    }
   ],
   "source": [
    "print(type(age),type(salary),type(comp),day)"
   ]
  },
  {
   "cell_type": "code",
   "execution_count": 34,
   "metadata": {
    "id": "VUALcq67mTKu"
   },
   "outputs": [],
   "source": [
    "#list - hetrogenious collection of object.\n",
    "customer_1=[26,\"javeed\",\"male\",7868.90,True,\"basheer\"]"
   ]
  },
  {
   "cell_type": "code",
   "execution_count": 35,
   "metadata": {
    "colab": {
     "base_uri": "https://localhost:8080/"
    },
    "id": "7-51ylj_nDTH",
    "outputId": "a2787215-7899-488c-ed3f-5cdae1ef5afc"
   },
   "outputs": [
    {
     "name": "stdout",
     "output_type": "stream",
     "text": [
      "[26, 'javeed', 'male', 7868.9, True, 'basheer'] \n",
      " <class 'list'>\n"
     ]
    }
   ],
   "source": [
    "print(customer_1,\"\\n\",type(customer_1))"
   ]
  },
  {
   "cell_type": "code",
   "execution_count": 36,
   "metadata": {
    "colab": {
     "base_uri": "https://localhost:8080/"
    },
    "id": "TCGInGSDnYqa",
    "outputId": "82ce618f-3e54-4724-f4d5-31d7f463104a"
   },
   "outputs": [
    {
     "name": "stdout",
     "output_type": "stream",
     "text": [
      "26 , basheer\n"
     ]
    }
   ],
   "source": [
    "print(customer_1[0],\",\",\n",
    "customer_1[-1])"
   ]
  },
  {
   "cell_type": "code",
   "execution_count": 37,
   "metadata": {
    "colab": {
     "base_uri": "https://localhost:8080/"
    },
    "id": "hOlEUMEAomB8",
    "outputId": "7981955b-2ba2-4bdc-cadf-bf64d6a29ef8"
   },
   "outputs": [
    {
     "name": "stdout",
     "output_type": "stream",
     "text": [
      "[26, 'javeed', 'male', 7868.9, True, 'basheer']\n"
     ]
    }
   ],
   "source": [
    "print(customer_1)"
   ]
  },
  {
   "cell_type": "code",
   "execution_count": 38,
   "metadata": {
    "id": "MoaLIhS7rMCP"
   },
   "outputs": [],
   "source": [
    "customer=[[26, 'javeed1', 'male', 7878.9, True, 'basheer4'],\n",
    "          [27, 'javeed2', 'male', 7888.9, False, 'basheer3'],\n",
    "          [28, 'javeed3', 'male', 7898.9, True, 'basheer2'],\n",
    "          [29, 'javeed4', 'male', 7890, False, 'basheer1']]"
   ]
  },
  {
   "cell_type": "code",
   "execution_count": 39,
   "metadata": {
    "colab": {
     "base_uri": "https://localhost:8080/"
    },
    "id": "BwdSnChIrgq4",
    "outputId": "3550ef32-4195-487b-f404-0900ee0e41ff"
   },
   "outputs": [
    {
     "data": {
      "text/plain": [
       "[28, 'javeed3', 'male', 7898.9, True, 'basheer2']"
      ]
     },
     "execution_count": 39,
     "metadata": {},
     "output_type": "execute_result"
    }
   ],
   "source": [
    "customer[2]"
   ]
  },
  {
   "cell_type": "code",
   "execution_count": 40,
   "metadata": {
    "colab": {
     "base_uri": "https://localhost:8080/",
     "height": 35
    },
    "id": "jK5OAMRMsUpX",
    "outputId": "51edc174-8a6e-4e88-8c67-e8cf1cb1055e"
   },
   "outputs": [
    {
     "data": {
      "text/plain": [
       "'male'"
      ]
     },
     "execution_count": 40,
     "metadata": {},
     "output_type": "execute_result"
    }
   ],
   "source": [
    "customer[3][2]"
   ]
  },
  {
   "cell_type": "code",
   "execution_count": 41,
   "metadata": {
    "id": "aFKUxw8gsXwy"
   },
   "outputs": [],
   "source": [
    "customer[3][1]='JaveedUpdate'"
   ]
  },
  {
   "cell_type": "code",
   "execution_count": 42,
   "metadata": {
    "colab": {
     "base_uri": "https://localhost:8080/"
    },
    "id": "IBm7695HslZ-",
    "outputId": "57fcb1f3-e982-4b96-aa54-7a12058cebbb"
   },
   "outputs": [
    {
     "data": {
      "text/plain": [
       "[29, 'JaveedUpdate', 'male', 7890, False, 'basheer1']"
      ]
     },
     "execution_count": 42,
     "metadata": {},
     "output_type": "execute_result"
    }
   ],
   "source": [
    "customer[3]"
   ]
  },
  {
   "cell_type": "code",
   "execution_count": 43,
   "metadata": {
    "colab": {
     "base_uri": "https://localhost:8080/"
    },
    "id": "-uvHEzz8sqn4",
    "outputId": "109ba238-64df-48e9-d881-b0348f379349"
   },
   "outputs": [
    {
     "name": "stdout",
     "output_type": "stream",
     "text": [
      "[[26, 'javeed1', 'male', 7878.9, True, 'basheer4'], [27, 'javeed2', 'male', 7888.9, False, 'basheer3'], [28, 'javeed3', 'male', 7898.9, True, 'basheer2'], [29, 'JaveedUpdate', 'male', 7890, False, 'basheer1'], 'NewAppendValue3']\n"
     ]
    }
   ],
   "source": [
    "customer.append(\"NewAppendValue3\")\n",
    "print(customer)"
   ]
  },
  {
   "cell_type": "code",
   "execution_count": 44,
   "metadata": {
    "colab": {
     "base_uri": "https://localhost:8080/"
    },
    "id": "jQnSpM-yszw0",
    "outputId": "c5b40531-6802-4687-e921-e4cf8c2bfa3f"
   },
   "outputs": [
    {
     "name": "stdout",
     "output_type": "stream",
     "text": [
      "[[26, 'javeed1', 'male', 7878.9, True, 'basheer4'], [27, 'javeed2', 'male', 7888.9, False, 'basheer3'], [28, 'javeed3', 'male', 7898.9, True, 'basheer2'], [29, 'JaveedUpdate', 'male', 7890, False, 'basheer1']]\n"
     ]
    }
   ],
   "source": [
    "#remove always delete the first entry\n",
    "customer.remove(\"NewAppendValue3\")\n",
    "print(customer)"
   ]
  },
  {
   "cell_type": "code",
   "execution_count": 45,
   "metadata": {
    "colab": {
     "base_uri": "https://localhost:8080/"
    },
    "id": "rw7pZThdtGW8",
    "outputId": "83d87a77-7580-4700-b773-f8445e11794f"
   },
   "outputs": [
    {
     "name": "stdout",
     "output_type": "stream",
     "text": [
      "[[26, 'javeed1', 'male', 7878.9, True, 'basheer4'], [27, 'javeed2', 'male', 7888.9, False, 'basheer3'], [28, 'javeed3', 'male', 7898.9, True, 'basheer2'], [29, 'JaveedUpdate', 'male', 7890, False, 'basheer1'], ['newvalue', 1, 'new']]\n"
     ]
    }
   ],
   "source": [
    "customer.append([\"newvalue\",1,'new'])\n",
    "print(customer)"
   ]
  },
  {
   "cell_type": "code",
   "execution_count": 46,
   "metadata": {
    "colab": {
     "base_uri": "https://localhost:8080/"
    },
    "id": "xjmACEsmtf_K",
    "outputId": "9a94f916-2b70-4559-cd1f-69a27c0a8302"
   },
   "outputs": [
    {
     "name": "stdout",
     "output_type": "stream",
     "text": [
      "[[26, 'NewInsertValue', 'javeed1', 'male', 7878.9, True, 'basheer4'], [27, 'javeed2', 'male', 7888.9, False, 'basheer3'], [28, 'javeed3', 'male', 7898.9, True, 'basheer2'], [29, 'JaveedUpdate', 'male', 7890, False, 'basheer1'], ['newvalue', 1, 'new']]\n"
     ]
    }
   ],
   "source": [
    "customer[0].insert(1,\"NewInsertValue\")\n",
    "print(customer)"
   ]
  },
  {
   "cell_type": "code",
   "execution_count": 47,
   "metadata": {
    "colab": {
     "base_uri": "https://localhost:8080/"
    },
    "id": "SWSfIViGtmav",
    "outputId": "fa009f56-04bd-41a5-9897-a8759155c22d"
   },
   "outputs": [
    {
     "name": "stdout",
     "output_type": "stream",
     "text": [
      "Before Pop\n",
      "[[26, 'NewInsertValue', 'javeed1', 'male', 7878.9, True, 'basheer4'], [27, 'javeed2', 'male', 7888.9, False, 'basheer3'], [28, 'javeed3', 'male', 7898.9, True, 'basheer2'], [29, 'JaveedUpdate', 'male', 7890, False, 'basheer1'], ['newvalue', 1, 'new']]\n",
      "poping value NewInsertValue\n",
      "After Pop\n",
      "[[26, 'male', 7878.9, True, 'basheer4'], [27, 'javeed2', 'male', 7888.9, False, 'basheer3'], [28, 'javeed3', 'male', 7898.9, True, 'basheer2'], [29, 'JaveedUpdate', 'male', 7890, False, 'basheer1'], ['newvalue', 1, 'new']]\n"
     ]
    }
   ],
   "source": [
    "#pop to remove particular index value\n",
    "print(\"Before Pop\")\n",
    "print(customer)\n",
    "print(\"poping value\",customer[0].pop(1))\n",
    "customer[0].pop(1)\n",
    "print(\"After Pop\")\n",
    "print(customer)"
   ]
  },
  {
   "cell_type": "code",
   "execution_count": 48,
   "metadata": {
    "colab": {
     "base_uri": "https://localhost:8080/"
    },
    "id": "tBjF_CESvCmL",
    "outputId": "625e76b8-f1bd-4135-e118-28e3a44e7d5e"
   },
   "outputs": [
    {
     "name": "stdout",
     "output_type": "stream",
     "text": [
      "Before Pop\n",
      "[[26, 'male', 7878.9, True, 'basheer4'], [27, 'javeed2', 'male', 7888.9, False, 'basheer3'], [28, 'javeed3', 'male', 7898.9, True, 'basheer2'], [29, 'JaveedUpdate', 'male', 7890, False, 'basheer1'], ['newvalue', 1, 'new']]\n",
      "poping value :  [29, 'JaveedUpdate', 'male', 7890, False, 'basheer1']\n",
      "After Pop\n",
      "[[26, 'male', 7878.9, True, 'basheer4'], [27, 'javeed2', 'male', 7888.9, False, 'basheer3'], ['newvalue', 1, 'new']]\n"
     ]
    }
   ],
   "source": [
    "#pop to remove particular index value\n",
    "print(\"Before Pop\")\n",
    "print(customer)\n",
    "print(\"poping value : \",customer.pop(-2))\n",
    "customer.pop(-2)\n",
    "print(\"After Pop\")\n",
    "print(customer)"
   ]
  },
  {
   "cell_type": "code",
   "execution_count": 49,
   "metadata": {
    "colab": {
     "base_uri": "https://localhost:8080/"
    },
    "id": "_UQhjNUcvk68",
    "outputId": "14832419-5594-4d13-f1d0-032567ba73f9"
   },
   "outputs": [
    {
     "name": "stdout",
     "output_type": "stream",
     "text": [
      "('javeed', 'tech', 'Software developer', 26, True)\n",
      "<class 'tuple'>\n",
      "javeed \n",
      " Software developer\n"
     ]
    }
   ],
   "source": [
    "#tuple - collection of object - hetrogenious - immutable\n",
    "data=(\"javeed\",\"tech\",\"Software developer\",26,True)\n",
    "print(data)\n",
    "print(type(data))\n",
    "print(data[0],\"\\n\",data[-3])"
   ]
  },
  {
   "cell_type": "code",
   "execution_count": 50,
   "metadata": {
    "colab": {
     "base_uri": "https://localhost:8080/",
     "height": 158
    },
    "id": "lqxHcYZjxtQB",
    "outputId": "63885530-5a65-49a5-c8d1-09fa00e3efc2"
   },
   "outputs": [
    {
     "ename": "TypeError",
     "evalue": "'tuple' object does not support item assignment",
     "output_type": "error",
     "traceback": [
      "\u001b[1;31m---------------------------------------------------------------------------\u001b[0m",
      "\u001b[1;31mTypeError\u001b[0m                                 Traceback (most recent call last)",
      "Cell \u001b[1;32mIn[50], line 2\u001b[0m\n\u001b[0;32m      1\u001b[0m \u001b[38;5;66;03m#we cant update the tuple\u001b[39;00m\n\u001b[1;32m----> 2\u001b[0m \u001b[43mdata\u001b[49m\u001b[43m[\u001b[49m\u001b[38;5;241;43m0\u001b[39;49m\u001b[43m]\u001b[49m\u001b[38;5;241m=\u001b[39m\u001b[38;5;124m\"\u001b[39m\u001b[38;5;124mJaveedUpdate\u001b[39m\u001b[38;5;124m\"\u001b[39m\n",
      "\u001b[1;31mTypeError\u001b[0m: 'tuple' object does not support item assignment"
     ]
    }
   ],
   "source": [
    "#we cant update the tuple\n",
    "data[0]=\"JaveedUpdate\""
   ]
  },
  {
   "cell_type": "code",
   "execution_count": null,
   "metadata": {
    "colab": {
     "base_uri": "https://localhost:8080/",
     "height": 228
    },
    "id": "eYxhOSKPyE4X",
    "outputId": "d8ff237d-8f1e-4653-c6fe-03f97adf79f9"
   },
   "outputs": [
    {
     "name": "stdout",
     "output_type": "stream",
     "text": [
      "('javeed', 'tech', 'Software developer', ['javeed', 'D', 34, True], 26, True)\n"
     ]
    },
    {
     "ename": "TypeError",
     "evalue": "'tuple' object does not support item assignment",
     "output_type": "error",
     "traceback": [
      "\u001b[0;31m---------------------------------------------------------------------------\u001b[0m",
      "\u001b[0;31mTypeError\u001b[0m                                 Traceback (most recent call last)",
      "\u001b[0;32m<ipython-input-69-367ee87b5166>\u001b[0m in \u001b[0;36m<cell line: 3>\u001b[0;34m()\u001b[0m\n\u001b[1;32m      1\u001b[0m \u001b[0mdata\u001b[0m\u001b[0;34m=\u001b[0m\u001b[0;34m(\u001b[0m\u001b[0;34m\"javeed\"\u001b[0m\u001b[0;34m,\u001b[0m\u001b[0;34m\"tech\"\u001b[0m\u001b[0;34m,\u001b[0m\u001b[0;34m\"Software developer\"\u001b[0m\u001b[0;34m,\u001b[0m\u001b[0;34m[\u001b[0m\u001b[0;34m\"javeed\"\u001b[0m\u001b[0;34m,\u001b[0m\u001b[0;34m'D'\u001b[0m\u001b[0;34m,\u001b[0m\u001b[0;36m34\u001b[0m\u001b[0;34m,\u001b[0m\u001b[0;32mTrue\u001b[0m\u001b[0;34m]\u001b[0m\u001b[0;34m,\u001b[0m\u001b[0;36m26\u001b[0m\u001b[0;34m,\u001b[0m\u001b[0;32mTrue\u001b[0m\u001b[0;34m)\u001b[0m\u001b[0;34m\u001b[0m\u001b[0;34m\u001b[0m\u001b[0m\n\u001b[1;32m      2\u001b[0m \u001b[0mprint\u001b[0m\u001b[0;34m(\u001b[0m\u001b[0mdata\u001b[0m\u001b[0;34m)\u001b[0m\u001b[0;34m\u001b[0m\u001b[0;34m\u001b[0m\u001b[0m\n\u001b[0;32m----> 3\u001b[0;31m \u001b[0mdata\u001b[0m\u001b[0;34m[\u001b[0m\u001b[0;36m3\u001b[0m\u001b[0;34m]\u001b[0m\u001b[0;34m=\u001b[0m\u001b[0;34m\"JaveedUpdate\"\u001b[0m\u001b[0;34m\u001b[0m\u001b[0;34m\u001b[0m\u001b[0m\n\u001b[0m\u001b[1;32m      4\u001b[0m \u001b[0mprint\u001b[0m\u001b[0;34m(\u001b[0m\u001b[0mdata\u001b[0m\u001b[0;34m)\u001b[0m\u001b[0;34m\u001b[0m\u001b[0;34m\u001b[0m\u001b[0m\n",
      "\u001b[0;31mTypeError\u001b[0m: 'tuple' object does not support item assignment"
     ]
    }
   ],
   "source": [
    "data=(\"javeed\",\"tech\",\"Software developer\",[\"javeed\",'D',34,True],26,True)\n",
    "print(data)\n",
    "data[3]=\"JaveedUpdate\"\n",
    "print(data)"
   ]
  },
  {
   "cell_type": "code",
   "execution_count": null,
   "metadata": {
    "colab": {
     "base_uri": "https://localhost:8080/"
    },
    "id": "fy5CX20GyaZq",
    "outputId": "1302c7b4-d3a8-4953-cb4f-001fe3931023"
   },
   "outputs": [
    {
     "name": "stdout",
     "output_type": "stream",
     "text": [
      "('javeed', 'tech', 'Software developer', ['javeed', 'D', 34, True], 26, True)\n",
      "('javeed', 'tech', 'Software developer', ['JaveedUpdate', 'D', 34, True], 26, True)\n"
     ]
    }
   ],
   "source": [
    "data=(\"javeed\",\"tech\",\"Software developer\",[\"javeed\",'D',34,True],26,True)\n",
    "print(data)\n",
    "data[3][0]=\"JaveedUpdate\"\n",
    "print(data)"
   ]
  },
  {
   "cell_type": "code",
   "execution_count": null,
   "metadata": {
    "id": "MLR0ErfkysVk"
   },
   "outputs": [],
   "source": []
  }
 ],
 "metadata": {
  "colab": {
   "provenance": []
  },
  "kernelspec": {
   "display_name": "Python 3",
   "name": "python3"
  },
  "language_info": {
   "codemirror_mode": {
    "name": "ipython",
    "version": 3
   },
   "file_extension": ".py",
   "mimetype": "text/x-python",
   "name": "python",
   "nbconvert_exporter": "python",
   "pygments_lexer": "ipython3",
   "version": "3.11.2"
  }
 },
 "nbformat": 4,
 "nbformat_minor": 0
}
