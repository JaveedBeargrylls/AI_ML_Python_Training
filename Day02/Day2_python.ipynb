{
 "cells": [
  {
   "cell_type": "code",
   "execution_count": 1,
   "metadata": {},
   "outputs": [],
   "source": [
    "#dict - { \"Key\" : \"Value\", \"Key\" : \"Value\"}"
   ]
  },
  {
   "cell_type": "code",
   "execution_count": 2,
   "metadata": {},
   "outputs": [],
   "source": [
    "user1={\"id\":12101,\"name\":\"Jessica\",\"Gender\":\"Female\",\"age\":28,\"location\":\"Delhi\",1:\"Jesscia_JJ\"}"
   ]
  },
  {
   "cell_type": "code",
   "execution_count": 3,
   "metadata": {},
   "outputs": [
    {
     "name": "stdout",
     "output_type": "stream",
     "text": [
      "{'id': 12101, 'name': 'Jessica', 'Gender': 'Female', 'age': 28, 'location': 'Delhi', 1: 'Jesscia_JJ'}\n",
      "<class 'dict'>\n"
     ]
    }
   ],
   "source": [
    "print(user1)\n",
    "print(type(user1))"
   ]
  },
  {
   "cell_type": "code",
   "execution_count": 4,
   "metadata": {},
   "outputs": [
    {
     "data": {
      "text/plain": [
       "(12101, 'Jesscia_JJ')"
      ]
     },
     "execution_count": 4,
     "metadata": {},
     "output_type": "execute_result"
    }
   ],
   "source": [
    "user1[\"id\"], user1[1]"
   ]
  },
  {
   "cell_type": "code",
   "execution_count": 5,
   "metadata": {},
   "outputs": [],
   "source": [
    "#Update\n",
    "user1[\"name\"]= \"Jessica Update\""
   ]
  },
  {
   "cell_type": "code",
   "execution_count": 6,
   "metadata": {},
   "outputs": [
    {
     "name": "stdout",
     "output_type": "stream",
     "text": [
      "{'id': 12101, 'name': 'Jessica Update', 'Gender': 'Female', 'age': 28, 'location': 'Delhi', 1: 'Jesscia_JJ'}\n"
     ]
    }
   ],
   "source": [
    "print(user1)"
   ]
  },
  {
   "cell_type": "code",
   "execution_count": 7,
   "metadata": {},
   "outputs": [],
   "source": [
    "user1.update({\"user2\":[\"javeed\",26,\"India\",11120,\"Male\"]})"
   ]
  },
  {
   "cell_type": "code",
   "execution_count": 8,
   "metadata": {},
   "outputs": [
    {
     "name": "stdout",
     "output_type": "stream",
     "text": [
      "{'id': 12101, 'name': 'Jessica Update', 'Gender': 'Female', 'age': 28, 'location': 'Delhi', 1: 'Jesscia_JJ', 'user2': ['javeed', 26, 'India', 11120, 'Male']}\n"
     ]
    }
   ],
   "source": [
    "print(user1)"
   ]
  },
  {
   "cell_type": "code",
   "execution_count": 9,
   "metadata": {},
   "outputs": [],
   "source": [
    "user1[\"user2\"][2] =\"Germany\""
   ]
  },
  {
   "cell_type": "code",
   "execution_count": 10,
   "metadata": {},
   "outputs": [
    {
     "name": "stdout",
     "output_type": "stream",
     "text": [
      "{'id': 12101, 'name': 'Jessica Update', 'Gender': 'Female', 'age': 28, 'location': 'Delhi', 1: 'Jesscia_JJ', 'user2': ['javeed', 26, 'Germany', 11120, 'Male']}\n"
     ]
    }
   ],
   "source": [
    "print(user1)"
   ]
  },
  {
   "cell_type": "code",
   "execution_count": 11,
   "metadata": {},
   "outputs": [
    {
     "data": {
      "text/plain": [
       "'Jesscia_JJ'"
      ]
     },
     "execution_count": 11,
     "metadata": {},
     "output_type": "execute_result"
    }
   ],
   "source": [
    "user1.pop(1)"
   ]
  },
  {
   "cell_type": "code",
   "execution_count": 12,
   "metadata": {},
   "outputs": [
    {
     "name": "stdout",
     "output_type": "stream",
     "text": [
      "{'id': 12101, 'name': 'Jessica Update', 'Gender': 'Female', 'age': 28, 'location': 'Delhi', 'user2': ['javeed', 26, 'Germany', 11120, 'Male']}\n"
     ]
    }
   ],
   "source": [
    "print(user1)"
   ]
  },
  {
   "cell_type": "code",
   "execution_count": 13,
   "metadata": {},
   "outputs": [],
   "source": [
    "#Set\n",
    "data={\"Javeed\",26,\"male\",565.7,True,\"mohammed\",25}"
   ]
  },
  {
   "cell_type": "code",
   "execution_count": 14,
   "metadata": {},
   "outputs": [
    {
     "name": "stdout",
     "output_type": "stream",
     "text": [
      "{True, 'male', 'Javeed', 565.7, 25, 26, 'mohammed'}\n",
      "<class 'set'>\n"
     ]
    }
   ],
   "source": [
    "print(data)\n",
    "print(type(data))"
   ]
  },
  {
   "cell_type": "code",
   "execution_count": 15,
   "metadata": {},
   "outputs": [],
   "source": [
    "data.add(\"pandey\")"
   ]
  },
  {
   "cell_type": "code",
   "execution_count": 16,
   "metadata": {},
   "outputs": [
    {
     "name": "stdout",
     "output_type": "stream",
     "text": [
      "{'pandey', True, 'male', 'Javeed', 565.7, 25, 26, 'mohammed'}\n"
     ]
    }
   ],
   "source": [
    "print(data)"
   ]
  },
  {
   "cell_type": "code",
   "execution_count": 17,
   "metadata": {},
   "outputs": [
    {
     "data": {
      "text/plain": [
       "'pandey'"
      ]
     },
     "execution_count": 17,
     "metadata": {},
     "output_type": "execute_result"
    }
   ],
   "source": [
    "data.pop()"
   ]
  },
  {
   "cell_type": "code",
   "execution_count": 18,
   "metadata": {},
   "outputs": [
    {
     "name": "stdout",
     "output_type": "stream",
     "text": [
      "{True, 'male', 'Javeed', 565.7, 25, 26, 'mohammed'}\n"
     ]
    }
   ],
   "source": [
    "print(data)"
   ]
  },
  {
   "cell_type": "code",
   "execution_count": 19,
   "metadata": {},
   "outputs": [
    {
     "data": {
      "text/plain": [
       "'\\n#Opertor in python\\nArithmetic Operator : +,-,*,/,//,%,**\\nAssignment Operator : =,+=,-=,*=,/=,//=,%=,**=\\nComparison Operator : ==,!=,>,<,>=,<=\\nLogical Operator : and,or,not\\nIdentity Operator : is,is not\\nMembership Operator : in,not in\\nBitwise Operator : &,|,^,~,<<,>>\\n'"
      ]
     },
     "execution_count": 19,
     "metadata": {},
     "output_type": "execute_result"
    }
   ],
   "source": [
    "'''\n",
    "#Opertor in python\n",
    "Arithmetic Operator : +,-,*,/,//,%,**\n",
    "Assignment Operator : =,+=,-=,*=,/=,//=,%=,**=\n",
    "Comparison Operator : ==,!=,>,<,>=,<=\n",
    "Logical Operator : and,or,not\n",
    "Identity Operator : is,is not\n",
    "Membership Operator : in,not in\n",
    "Bitwise Operator : &,|,^,~,<<,>>\n",
    "'''"
   ]
  },
  {
   "cell_type": "code",
   "execution_count": 1,
   "metadata": {},
   "outputs": [
    {
     "name": "stdout",
     "output_type": "stream",
     "text": [
      "10\n",
      "<class 'str'>\n"
     ]
    }
   ],
   "source": [
    "data1=input(\"enter value\")\n",
    "print(data1)\n",
    "print(type(data1))"
   ]
  },
  {
   "cell_type": "code",
   "execution_count": 2,
   "metadata": {},
   "outputs": [
    {
     "name": "stdout",
     "output_type": "stream",
     "text": [
      "15\n",
      "1\n",
      "56\n",
      "2097152\n",
      "1.1428571428571428\n",
      "1\n"
     ]
    }
   ],
   "source": [
    "a=int(input(\"enter a value\"))\n",
    "b=int(input(\"enter b value\"))\n",
    "print(a+b)\n",
    "print(a-b)\n",
    "print(a*b)\n",
    "print(a**b)\n",
    "print(a/b)\n",
    "print(a//b)"
   ]
  },
  {
   "cell_type": "code",
   "execution_count": null,
   "metadata": {},
   "outputs": [],
   "source": [
    "a=23"
   ]
  },
  {
   "cell_type": "code",
   "execution_count": null,
   "metadata": {},
   "outputs": [
    {
     "name": "stdout",
     "output_type": "stream",
     "text": [
      "29\n"
     ]
    }
   ],
   "source": [
    "a+=6 #a=a+6\n",
    "print(a)\n"
   ]
  },
  {
   "cell_type": "code",
   "execution_count": 3,
   "metadata": {},
   "outputs": [
    {
     "name": "stdout",
     "output_type": "stream",
     "text": [
      "False\n",
      "True\n",
      "False\n",
      "True\n",
      "False\n",
      "True\n"
     ]
    }
   ],
   "source": [
    "a=int(input(\"enter a value\"))\n",
    "b=int(input(\"enter b value\"))\n",
    "print(a==b)\n",
    "print(a!=b)\n",
    "print(a>b)\n",
    "print(a<b)\n",
    "print(a>=b)\n",
    "print(a<=b)"
   ]
  },
  {
   "cell_type": "code",
   "execution_count": 4,
   "metadata": {},
   "outputs": [
    {
     "name": "stdout",
     "output_type": "stream",
     "text": [
      "False\n",
      "False\n"
     ]
    }
   ],
   "source": [
    "a=int(input(\"enter a value\"))\n",
    "b=int(input(\"enter b value\"))\n",
    "print(a>b and a>90)\n",
    "print(a>b or a>90)"
   ]
  },
  {
   "cell_type": "code",
   "execution_count": null,
   "metadata": {},
   "outputs": [],
   "source": [
    "a=[\"ashish\",34,\"male\",True,899.90]"
   ]
  },
  {
   "cell_type": "code",
   "execution_count": null,
   "metadata": {},
   "outputs": [
    {
     "name": "stdout",
     "output_type": "stream",
     "text": [
      "True\n",
      "False\n",
      "False\n"
     ]
    }
   ],
   "source": [
    "print(34 in a)\n",
    "print(\"ashish\" not in a)\n",
    "print(\"abhi\" in a)"
   ]
  },
  {
   "cell_type": "code",
   "execution_count": null,
   "metadata": {},
   "outputs": [],
   "source": [
    "user1={\"id\":12101,\"name\":\"Jessica\",\"Gender\":\"Female\",\"age\":28,\n",
    "       \"location\":\"Delhi\",1:\"Jesscia_JJ\"}"
   ]
  },
  {
   "cell_type": "code",
   "execution_count": null,
   "metadata": {},
   "outputs": [
    {
     "name": "stdout",
     "output_type": "stream",
     "text": [
      "False\n"
     ]
    }
   ],
   "source": [
    "print(\"idd\" in user1)"
   ]
  },
  {
   "cell_type": "code",
   "execution_count": null,
   "metadata": {},
   "outputs": [],
   "source": [
    "a=[78,45,67]\n",
    "b=a\n",
    "c=[78,45,67]"
   ]
  },
  {
   "cell_type": "code",
   "execution_count": null,
   "metadata": {},
   "outputs": [
    {
     "name": "stdout",
     "output_type": "stream",
     "text": [
      "True\n",
      "False\n"
     ]
    }
   ],
   "source": [
    "print(a is b)\n",
    "print(a is c)"
   ]
  },
  {
   "cell_type": "code",
   "execution_count": null,
   "metadata": {},
   "outputs": [
    {
     "name": "stdout",
     "output_type": "stream",
     "text": [
      "1985565786432\n",
      "1985565786432\n",
      "1985565992768\n"
     ]
    }
   ],
   "source": [
    "print(id(a))\n",
    "print(id(b))\n",
    "print(id(c))"
   ]
  },
  {
   "cell_type": "code",
   "execution_count": null,
   "metadata": {},
   "outputs": [
    {
     "name": "stdout",
     "output_type": "stream",
     "text": [
      "1\n"
     ]
    }
   ],
   "source": [
    "#bitwise Operator &\n",
    "\n",
    "print(5 & 3)"
   ]
  },
  {
   "cell_type": "code",
   "execution_count": null,
   "metadata": {},
   "outputs": [],
   "source": [
    "#Bitwise data\n",
    "# 5 - 0101\n",
    "# 3-  0011\n",
    "# -------------\n",
    "#     0001 -1"
   ]
  },
  {
   "cell_type": "code",
   "execution_count": null,
   "metadata": {},
   "outputs": [
    {
     "name": "stdout",
     "output_type": "stream",
     "text": [
      "7\n"
     ]
    }
   ],
   "source": [
    "print(5 | 3)"
   ]
  },
  {
   "cell_type": "code",
   "execution_count": null,
   "metadata": {},
   "outputs": [],
   "source": [
    "# 5 - 0101\n",
    "# 3-  0011\n",
    "# -------------\n",
    "#     0111 -7"
   ]
  },
  {
   "cell_type": "code",
   "execution_count": null,
   "metadata": {},
   "outputs": [],
   "source": [
    "# condition statement\n",
    "# if, else , elif"
   ]
  },
  {
   "cell_type": "code",
   "execution_count": null,
   "metadata": {},
   "outputs": [],
   "source": [
    "a=7\n",
    "if a>50:\n",
    "  print(\"correct, a is grater than 50\")\n",
    "  print(\"if block\")"
   ]
  },
  {
   "cell_type": "code",
   "execution_count": null,
   "metadata": {},
   "outputs": [
    {
     "name": "stdout",
     "output_type": "stream",
     "text": [
      "else block\n",
      "a is less than 50\n"
     ]
    }
   ],
   "source": [
    "a=7\n",
    "if a>50:\n",
    "  print(\"correct, a is grater than 50\")\n",
    "  print(\"if block\")\n",
    "else:\n",
    "  print(\"else block\")\n",
    "  print(\"a is less than 50\")"
   ]
  },
  {
   "cell_type": "code",
   "execution_count": null,
   "metadata": {},
   "outputs": [
    {
     "name": "stdout",
     "output_type": "stream",
     "text": [
      "correct, a is less than 50\n",
      "elif block\n"
     ]
    }
   ],
   "source": [
    "a=7\n",
    "if a>50:\n",
    "  print(\"correct, a is grater than 50\")\n",
    "  print(\"if block\")\n",
    "\n",
    "elif a==50:\n",
    "  print(\"correct, a is equal to 7\")\n",
    "  print(\"elif block\")\n",
    "\n",
    "elif a<50:\n",
    "  print(\"correct, a is less than 50\")\n",
    "  print(\"elif block\")\n",
    "\n",
    "else:\n",
    "  print(\"else block\")\n",
    "  print(\"a is less than 50\")"
   ]
  },
  {
   "cell_type": "code",
   "execution_count": null,
   "metadata": {},
   "outputs": [
    {
     "name": "stdout",
     "output_type": "stream",
     "text": [
      "correct, a is grater than 50\n",
      "if block\n",
      "a is odd\n"
     ]
    }
   ],
   "source": [
    "a=53\n",
    "if a>50:\n",
    "  print(\"correct, a is grater than 50\")\n",
    "  print(\"if block\")\n",
    "  if a%2==0:\n",
    "    print(\"a is even\")\n",
    "  else:\n",
    "    print(\"a is odd\")\n",
    "\n",
    "elif a==50:\n",
    "  print(\"correct, a is equal to 7\")\n",
    "  print(\"elif block\")\n",
    "\n",
    "else:\n",
    "  print(\"else block\")\n",
    "  print(\"a is less than 50\")"
   ]
  },
  {
   "cell_type": "code",
   "execution_count": null,
   "metadata": {},
   "outputs": [],
   "source": [
    "#loop in python while and for"
   ]
  },
  {
   "cell_type": "code",
   "execution_count": null,
   "metadata": {},
   "outputs": [
    {
     "name": "stdout",
     "output_type": "stream",
     "text": [
      "Hello machine learning\n",
      "0\n",
      "Hello machine learning\n",
      "1\n",
      "Hello machine learning\n",
      "2\n",
      "Hello machine learning\n",
      "3\n",
      "Hello machine learning\n",
      "4\n",
      "Hello machine learning\n",
      "5\n",
      "Hello machine learning\n",
      "6\n",
      "Hello machine learning\n",
      "7\n",
      "Hello machine learning\n",
      "8\n",
      "Hello machine learning\n",
      "9\n"
     ]
    }
   ],
   "source": [
    "a=0\n",
    "\n",
    "while a<10:\n",
    "  print(\"Hello machine learning\")\n",
    "  print(a)\n",
    "  a+=1"
   ]
  },
  {
   "cell_type": "code",
   "execution_count": null,
   "metadata": {},
   "outputs": [
    {
     "name": "stdout",
     "output_type": "stream",
     "text": [
      "Hello machine learning\n",
      "0\n",
      "Hello machine learning\n",
      "1\n",
      "Hello machine learning\n",
      "2\n",
      "Hello machine learning\n",
      "3\n",
      "Hello machine learning\n",
      "4\n"
     ]
    }
   ],
   "source": [
    "a=0\n",
    "\n",
    "while a<10:\n",
    "\n",
    "  if a==5:\n",
    "    break\n",
    "  print(\"Hello machine learning\")\n",
    "  print(a)\n",
    "  a+=1"
   ]
  },
  {
   "cell_type": "code",
   "execution_count": null,
   "metadata": {},
   "outputs": [
    {
     "name": "stdout",
     "output_type": "stream",
     "text": [
      "Hello machine learning\n",
      "1\n",
      "Hello machine learning\n",
      "2\n",
      "Hello machine learning\n",
      "3\n",
      "Hello machine learning\n",
      "4\n",
      "Hello machine learning\n",
      "6\n",
      "Hello machine learning\n",
      "7\n",
      "Hello machine learning\n",
      "8\n",
      "Hello machine learning\n",
      "9\n",
      "Hello machine learning\n",
      "10\n"
     ]
    }
   ],
   "source": [
    "a=0\n",
    "while a<10:\n",
    "  a=a+1\n",
    "  if a==5:\n",
    "    continue\n",
    "  print(\"Hello machine learning\")\n",
    "  print(a)"
   ]
  },
  {
   "cell_type": "code",
   "execution_count": null,
   "metadata": {},
   "outputs": [],
   "source": [
    "#FOR LOOP\n",
    "user1={\"id\":12101,\"name\":\"Jessica\",\"Gender\":\"Female\",\"age\":28,\n",
    "       \"location\":\"Delhi\",1:\"Jesscia_JJ\"}\n",
    "data=[34,35,78,93,564,759]\n",
    "data2=(89.90,\"ashish\",34,True)\n",
    "infor = \"Meachine Learning code\""
   ]
  },
  {
   "cell_type": "code",
   "execution_count": null,
   "metadata": {},
   "outputs": [
    {
     "name": "stdout",
     "output_type": "stream",
     "text": [
      "34\n",
      "for Loop\n",
      "35\n",
      "for Loop\n",
      "78\n",
      "for Loop\n",
      "93\n",
      "for Loop\n",
      "564\n",
      "for Loop\n",
      "759\n",
      "for Loop\n"
     ]
    }
   ],
   "source": [
    "for b in data:\n",
    "    print(b)\n",
    "    print(\"for Loop\")"
   ]
  },
  {
   "cell_type": "code",
   "execution_count": null,
   "metadata": {},
   "outputs": [],
   "source": [
    "data=[34,35,78,93,564,759,0,432]"
   ]
  },
  {
   "cell_type": "code",
   "execution_count": null,
   "metadata": {},
   "outputs": [],
   "source": [
    "even=[]\n",
    "for i in data:\n",
    "    if i%2==0:\n",
    "        even.append(i)"
   ]
  },
  {
   "cell_type": "code",
   "execution_count": null,
   "metadata": {},
   "outputs": [
    {
     "name": "stdout",
     "output_type": "stream",
     "text": [
      "[34, 78, 564, 0, 432]\n"
     ]
    }
   ],
   "source": [
    "print(even)"
   ]
  },
  {
   "cell_type": "code",
   "execution_count": null,
   "metadata": {},
   "outputs": [],
   "source": [
    "data=[34,35,78,93,564,759,\"data\",123.89,90.9]"
   ]
  },
  {
   "cell_type": "code",
   "execution_count": null,
   "metadata": {},
   "outputs": [],
   "source": [
    "even=[]\n",
    "for i in data:\n",
    "    if type(i)==int:\n",
    "        if i%2==0:\n",
    "            even.append(i)"
   ]
  },
  {
   "cell_type": "code",
   "execution_count": null,
   "metadata": {},
   "outputs": [
    {
     "name": "stdout",
     "output_type": "stream",
     "text": [
      "[34, 78, 564]\n"
     ]
    }
   ],
   "source": [
    "print(even)"
   ]
  },
  {
   "cell_type": "code",
   "execution_count": null,
   "metadata": {},
   "outputs": [
    {
     "name": "stdout",
     "output_type": "stream",
     "text": [
      "[34, 564]\n"
     ]
    }
   ],
   "source": [
    "even=[]\n",
    "for i in data:\n",
    "    if i==564:\n",
    "        break\n",
    "    if type(i)==int:\n",
    "        if i%2==0:\n",
    "            even.append(i)\n",
    "print(even)"
   ]
  },
  {
   "cell_type": "code",
   "execution_count": null,
   "metadata": {},
   "outputs": [
    {
     "name": "stdout",
     "output_type": "stream",
     "text": [
      "[34, 78, 564]\n"
     ]
    }
   ],
   "source": [
    "even=[]\n",
    "for i in data:\n",
    "    if i==93:\n",
    "        continue\n",
    "    if type(i)==int:\n",
    "        if i%2==0:\n",
    "            even.append(i)\n",
    "print(even)"
   ]
  },
  {
   "cell_type": "code",
   "execution_count": null,
   "metadata": {},
   "outputs": [],
   "source": [
    "#Functions\n",
    "# to define a function we use 'def' name of function()\n",
    "\n",
    "def add():\n",
    "    print(\"this is add function\")"
   ]
  },
  {
   "cell_type": "code",
   "execution_count": null,
   "metadata": {},
   "outputs": [
    {
     "name": "stdout",
     "output_type": "stream",
     "text": [
      "this is add function\n"
     ]
    }
   ],
   "source": [
    "#calling of function and we can call it many time\n",
    "add()"
   ]
  },
  {
   "cell_type": "code",
   "execution_count": null,
   "metadata": {},
   "outputs": [],
   "source": [
    "def add(a,b):\n",
    "    print(\"this is add function\")\n",
    "    c=a+b\n",
    "    print(c)"
   ]
  },
  {
   "cell_type": "code",
   "execution_count": null,
   "metadata": {},
   "outputs": [
    {
     "name": "stdout",
     "output_type": "stream",
     "text": [
      "this is add function\n",
      "9\n"
     ]
    }
   ],
   "source": [
    "add(4,5)"
   ]
  },
  {
   "cell_type": "code",
   "execution_count": null,
   "metadata": {},
   "outputs": [],
   "source": [
    "#we can define the default values incase of user absence value\n",
    "def add(a,b=23):\n",
    "    print(\"this is add function with/without user input\")\n",
    "    c=a+b\n",
    "    print(c)    "
   ]
  },
  {
   "cell_type": "code",
   "execution_count": null,
   "metadata": {},
   "outputs": [
    {
     "name": "stdout",
     "output_type": "stream",
     "text": [
      "this is add function with/without user input\n",
      "123\n"
     ]
    }
   ],
   "source": [
    "add(100)"
   ]
  },
  {
   "cell_type": "code",
   "execution_count": null,
   "metadata": {},
   "outputs": [
    {
     "name": "stdout",
     "output_type": "stream",
     "text": [
      "this is add function with/without user input\n",
      "150\n"
     ]
    }
   ],
   "source": [
    "add(100,50)"
   ]
  },
  {
   "cell_type": "code",
   "execution_count": null,
   "metadata": {},
   "outputs": [],
   "source": [
    "# Global variable\n",
    "d=50\n",
    "def add(a,b=23):\n",
    "    print(\"this is add function with/without user input\")\n",
    "    c=a+b+d\n",
    "    print(c)"
   ]
  },
  {
   "cell_type": "code",
   "execution_count": null,
   "metadata": {},
   "outputs": [
    {
     "name": "stdout",
     "output_type": "stream",
     "text": [
      "this is add function with/without user input\n",
      "74\n"
     ]
    }
   ],
   "source": [
    "add(1)"
   ]
  },
  {
   "cell_type": "code",
   "execution_count": null,
   "metadata": {},
   "outputs": [],
   "source": [
    "d = 50  # This is a global variable.\n",
    "\n",
    "def add(a, b=23):  # The function 'add' with two parameters, a and b (default value for b is 23)\n",
    "    global cr  # This tells Python that 'cr' is a global variable, not local.\n",
    "    print(\"this is add function\")  # This will print every time the function is called.\n",
    "    cr = a + b + d  # The function adds a, b, and d, and assigns the result to the global variable 'cr'.\n",
    "    return cr  # The function returns the value of 'cr'.\n"
   ]
  },
  {
   "cell_type": "code",
   "execution_count": null,
   "metadata": {},
   "outputs": [
    {
     "name": "stdout",
     "output_type": "stream",
     "text": [
      "this is add function\n"
     ]
    },
    {
     "data": {
      "text/plain": [
       "103"
      ]
     },
     "execution_count": 48,
     "metadata": {},
     "output_type": "execute_result"
    }
   ],
   "source": [
    "add(30)  # This will use the default value of 'b' (23), so the calculation will be 30 + 23 + 50 = 103"
   ]
  },
  {
   "cell_type": "code",
   "execution_count": null,
   "metadata": {},
   "outputs": [
    {
     "name": "stdout",
     "output_type": "stream",
     "text": [
      "103\n"
     ]
    }
   ],
   "source": [
    "print(cr)"
   ]
  },
  {
   "cell_type": "code",
   "execution_count": null,
   "metadata": {},
   "outputs": [
    {
     "name": "stdout",
     "output_type": "stream",
     "text": [
      "69\n"
     ]
    }
   ],
   "source": [
    "#lambda\n",
    "#lambda argument: statement\n",
    "\n",
    "user = lambda a,b: a+b\n",
    "print(user(34,35))"
   ]
  },
  {
   "cell_type": "code",
   "execution_count": null,
   "metadata": {},
   "outputs": [
    {
     "name": "stdout",
     "output_type": "stream",
     "text": [
      "age 24\n"
     ]
    }
   ],
   "source": [
    "user = lambda a,b: a+\" \"+str(b)\n",
    "print(user(\"age\",24))"
   ]
  },
  {
   "cell_type": "code",
   "execution_count": null,
   "metadata": {},
   "outputs": [],
   "source": []
  }
 ],
 "metadata": {
  "kernelspec": {
   "display_name": "Python 3",
   "language": "python",
   "name": "python3"
  },
  "language_info": {
   "codemirror_mode": {
    "name": "ipython",
    "version": 3
   },
   "file_extension": ".py",
   "mimetype": "text/x-python",
   "name": "python",
   "nbconvert_exporter": "python",
   "pygments_lexer": "ipython3",
   "version": "3.11.2"
  }
 },
 "nbformat": 4,
 "nbformat_minor": 2
}
