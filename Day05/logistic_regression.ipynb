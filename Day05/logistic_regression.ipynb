{
 "cells": [
  {
   "cell_type": "code",
   "execution_count": 3,
   "metadata": {},
   "outputs": [],
   "source": [
    "import pandas as pd"
   ]
  },
  {
   "cell_type": "code",
   "execution_count": 5,
   "metadata": {},
   "outputs": [],
   "source": [
    "data=pd.read_csv(r\"C:\\Training\\AI_ML_Python_Training\\Day05\\combined_cycle_power_plant.csv\")"
   ]
  },
  {
   "cell_type": "code",
   "execution_count": null,
   "metadata": {},
   "outputs": [
    {
     "name": "stdout",
     "output_type": "stream",
     "text": [
      "     temperature;exhaust_vacuum;ambient_pressure;relative_humidity;energy_output\n",
      "0                         9.59;38.56;1017.01;60.1;481.3                         \n",
      "1                      12.04;42.34;1019.72;94.67;465.36                         \n",
      "2                      13.87;45.08;1024.42;81.69;465.48                         \n",
      "3                       13.72;54.3;1017.89;79.08;467.05                         \n",
      "4                         15.14;49.64;1023.78;75;463.58                         \n",
      "...                                                 ...                         \n",
      "9563                    17.1;49.69;1005.53;81.82;457.32                         \n",
      "9564                    24.73;65.34;1015.42;52.8;446.92                         \n",
      "9565                   30.44;56.24;1005.19;56.24;429.34                         \n",
      "9566                      23;66.05;1020.61;80.29;421.57                         \n",
      "9567                   17.75;49.25;1020.86;63.67;454.41                         \n",
      "\n",
      "[9568 rows x 1 columns]\n"
     ]
    }
   ],
   "source": [
    "print(data)"
   ]
  },
  {
   "cell_type": "code",
   "execution_count": null,
   "metadata": {},
   "outputs": [],
   "source": []
  }
 ],
 "metadata": {
  "kernelspec": {
   "display_name": "Python 3",
   "language": "python",
   "name": "python3"
  },
  "language_info": {
   "codemirror_mode": {
    "name": "ipython",
    "version": 3
   },
   "file_extension": ".py",
   "mimetype": "text/x-python",
   "name": "python",
   "nbconvert_exporter": "python",
   "pygments_lexer": "ipython3",
   "version": "3.11.2"
  }
 },
 "nbformat": 4,
 "nbformat_minor": 2
}
